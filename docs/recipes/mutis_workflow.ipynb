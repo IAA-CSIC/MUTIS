{
 "cells": [
  {
   "cell_type": "markdown",
   "metadata": {},
   "source": [
    "# Workflow of MUTIS (class version)\n",
    "\n",
    "Here we illustrate the workflow of MUTIS (class version) to analyze correlation between two signals.\n",
    "The general workflow is:\n",
    "\n",
    "- **We load the data** in a suitable way.\n",
    "\n",
    "- **We generate the synthetic light curves**, which are used to calculate the confidence levels of correlations.\n",
    "    \n",
    "    This is an automatic process if the method used for generating them is just **sampling** (lc_gen_samp), or flux randomization with the same **psd** (lc_gen_psd). If we simulate them as an **stochastic** process (lc_gen_ou) as suggested for example in Tavecchio, Bonnoli and Galanti, 2020 (doi:10.1093/mnras/staa2055) we need to carefully choose the parameters for this stochastic process (currently trying to optimize it).\n",
    "    \n",
    "- **We generate the correlations** (the synthetic ones and the real one) and plot them together.\n",
    "    \n",
    "    For this we need to manually choose the time binning.\n",
    "    \n",
    "In an effort to make the manual tasks as easy as possible I have incorporated new methods which automatically plot the results so the process of choosing this parameters is just a matter of executing one or two lines in the notebook and varying the numbers.\n",
    "\n",
    "**Juan Escudero**"
   ]
  },
  {
   "cell_type": "code",
   "execution_count": 1,
   "metadata": {
    "jupyter": {
     "source_hidden": true
    },
    "tags": []
   },
   "outputs": [],
   "source": [
    "# I'm doing a lot of changes to MUTIS while writting this, better reload automatically.\n",
    "%load_ext autoreload\n",
    "%autoreload 2"
   ]
  },
  {
   "cell_type": "code",
   "execution_count": 2,
   "metadata": {},
   "outputs": [],
   "source": [
    "import numpy as np\n",
    "import scipy as sp\n",
    "\n",
    "import pandas as pd\n",
    "pd.set_option(\"display.max_columns\", None)\n",
    "\n",
    "from astropy.time import Time\n",
    "\n",
    "import matplotlib as mplt\n",
    "import matplotlib.pyplot as plt\n",
    "\n",
    "import mutis"
   ]
  },
  {
   "cell_type": "markdown",
   "metadata": {},
   "source": [
    "## Load data\n",
    "Load it with pandas becase I like the way pandas prints tables. Also useful accesing vars as strings!"
   ]
  },
  {
   "cell_type": "code",
   "execution_count": 3,
   "metadata": {},
   "outputs": [],
   "source": [
    "data = {}"
   ]
  },
  {
   "cell_type": "code",
   "execution_count": 4,
   "metadata": {},
   "outputs": [
    {
     "data": {
      "text/html": [
       "<div>\n",
       "<style scoped>\n",
       "    .dataframe tbody tr th:only-of-type {\n",
       "        vertical-align: middle;\n",
       "    }\n",
       "\n",
       "    .dataframe tbody tr th {\n",
       "        vertical-align: top;\n",
       "    }\n",
       "\n",
       "    .dataframe thead th {\n",
       "        text-align: right;\n",
       "    }\n",
       "</style>\n",
       "<table border=\"1\" class=\"dataframe\">\n",
       "  <thead>\n",
       "    <tr style=\"text-align: right;\">\n",
       "      <th></th>\n",
       "      <th>year</th>\n",
       "      <th>I</th>\n",
       "      <th>dI</th>\n",
       "      <th>pL</th>\n",
       "      <th>dpL</th>\n",
       "      <th>chi</th>\n",
       "      <th>dchi</th>\n",
       "      <th>pC</th>\n",
       "      <th>dpC</th>\n",
       "      <th>MJD</th>\n",
       "    </tr>\n",
       "  </thead>\n",
       "  <tbody>\n",
       "    <tr>\n",
       "      <th>0</th>\n",
       "      <td>2007.3534</td>\n",
       "      <td>3.510</td>\n",
       "      <td>0.180</td>\n",
       "      <td>2.59</td>\n",
       "      <td>0.51</td>\n",
       "      <td>255.6</td>\n",
       "      <td>4.7</td>\n",
       "      <td>-0.58</td>\n",
       "      <td>0.22</td>\n",
       "      <td>54230.2015</td>\n",
       "    </tr>\n",
       "    <tr>\n",
       "      <th>1</th>\n",
       "      <td>2007.3671</td>\n",
       "      <td>3.920</td>\n",
       "      <td>0.200</td>\n",
       "      <td>2.61</td>\n",
       "      <td>0.47</td>\n",
       "      <td>245.2</td>\n",
       "      <td>5.0</td>\n",
       "      <td>-0.87</td>\n",
       "      <td>0.23</td>\n",
       "      <td>54234.8459</td>\n",
       "    </tr>\n",
       "    <tr>\n",
       "      <th>2</th>\n",
       "      <td>2007.6000</td>\n",
       "      <td>1.650</td>\n",
       "      <td>0.090</td>\n",
       "      <td>3.58</td>\n",
       "      <td>0.48</td>\n",
       "      <td>242.3</td>\n",
       "      <td>3.8</td>\n",
       "      <td>-0.35</td>\n",
       "      <td>0.22</td>\n",
       "      <td>54319.5631</td>\n",
       "    </tr>\n",
       "    <tr>\n",
       "      <th>3</th>\n",
       "      <td>2007.6356</td>\n",
       "      <td>1.380</td>\n",
       "      <td>0.070</td>\n",
       "      <td>2.49</td>\n",
       "      <td>0.54</td>\n",
       "      <td>268.5</td>\n",
       "      <td>4.5</td>\n",
       "      <td>0.31</td>\n",
       "      <td>0.22</td>\n",
       "      <td>54332.5276</td>\n",
       "    </tr>\n",
       "    <tr>\n",
       "      <th>4</th>\n",
       "      <td>2007.7041</td>\n",
       "      <td>0.690</td>\n",
       "      <td>0.040</td>\n",
       "      <td>3.27</td>\n",
       "      <td>0.54</td>\n",
       "      <td>250.7</td>\n",
       "      <td>4.1</td>\n",
       "      <td>-0.53</td>\n",
       "      <td>0.22</td>\n",
       "      <td>54358.4618</td>\n",
       "    </tr>\n",
       "    <tr>\n",
       "      <th>...</th>\n",
       "      <td>...</td>\n",
       "      <td>...</td>\n",
       "      <td>...</td>\n",
       "      <td>...</td>\n",
       "      <td>...</td>\n",
       "      <td>...</td>\n",
       "      <td>...</td>\n",
       "      <td>...</td>\n",
       "      <td>...</td>\n",
       "      <td>...</td>\n",
       "    </tr>\n",
       "    <tr>\n",
       "      <th>100</th>\n",
       "      <td>2020.4278</td>\n",
       "      <td>1.029</td>\n",
       "      <td>0.052</td>\n",
       "      <td>4.78</td>\n",
       "      <td>0.59</td>\n",
       "      <td>352.0</td>\n",
       "      <td>3.4</td>\n",
       "      <td>-3.80</td>\n",
       "      <td>0.42</td>\n",
       "      <td>59005.5950</td>\n",
       "    </tr>\n",
       "    <tr>\n",
       "      <th>101</th>\n",
       "      <td>2020.4542</td>\n",
       "      <td>2.216</td>\n",
       "      <td>0.111</td>\n",
       "      <td>4.38</td>\n",
       "      <td>0.58</td>\n",
       "      <td>347.6</td>\n",
       "      <td>3.2</td>\n",
       "      <td>0.33</td>\n",
       "      <td>0.31</td>\n",
       "      <td>59015.2792</td>\n",
       "    </tr>\n",
       "    <tr>\n",
       "      <th>102</th>\n",
       "      <td>2020.5063</td>\n",
       "      <td>2.226</td>\n",
       "      <td>0.111</td>\n",
       "      <td>1.21</td>\n",
       "      <td>0.47</td>\n",
       "      <td>320.0</td>\n",
       "      <td>12.2</td>\n",
       "      <td>1.00</td>\n",
       "      <td>0.31</td>\n",
       "      <td>59034.2958</td>\n",
       "    </tr>\n",
       "    <tr>\n",
       "      <th>103</th>\n",
       "      <td>2020.6671</td>\n",
       "      <td>2.234</td>\n",
       "      <td>0.112</td>\n",
       "      <td>7.18</td>\n",
       "      <td>0.67</td>\n",
       "      <td>311.8</td>\n",
       "      <td>1.8</td>\n",
       "      <td>1.35</td>\n",
       "      <td>0.33</td>\n",
       "      <td>59093.2050</td>\n",
       "    </tr>\n",
       "    <tr>\n",
       "      <th>104</th>\n",
       "      <td>2020.7438</td>\n",
       "      <td>2.266</td>\n",
       "      <td>0.113</td>\n",
       "      <td>7.71</td>\n",
       "      <td>0.61</td>\n",
       "      <td>305.3</td>\n",
       "      <td>2.0</td>\n",
       "      <td>-0.55</td>\n",
       "      <td>0.32</td>\n",
       "      <td>59121.2212</td>\n",
       "    </tr>\n",
       "  </tbody>\n",
       "</table>\n",
       "<p>105 rows × 10 columns</p>\n",
       "</div>"
      ],
      "text/plain": [
       "          year      I     dI    pL   dpL    chi  dchi    pC   dpC         MJD\n",
       "0    2007.3534  3.510  0.180  2.59  0.51  255.6   4.7 -0.58  0.22  54230.2015\n",
       "1    2007.3671  3.920  0.200  2.61  0.47  245.2   5.0 -0.87  0.23  54234.8459\n",
       "2    2007.6000  1.650  0.090  3.58  0.48  242.3   3.8 -0.35  0.22  54319.5631\n",
       "3    2007.6356  1.380  0.070  2.49  0.54  268.5   4.5  0.31  0.22  54332.5276\n",
       "4    2007.7041  0.690  0.040  3.27  0.54  250.7   4.1 -0.53  0.22  54358.4618\n",
       "..         ...    ...    ...   ...   ...    ...   ...   ...   ...         ...\n",
       "100  2020.4278  1.029  0.052  4.78  0.59  352.0   3.4 -3.80  0.42  59005.5950\n",
       "101  2020.4542  2.216  0.111  4.38  0.58  347.6   3.2  0.33  0.31  59015.2792\n",
       "102  2020.5063  2.226  0.111  1.21  0.47  320.0  12.2  1.00  0.31  59034.2958\n",
       "103  2020.6671  2.234  0.112  7.18  0.67  311.8   1.8  1.35  0.33  59093.2050\n",
       "104  2020.7438  2.266  0.113  7.71  0.61  305.3   2.0 -0.55  0.32  59121.2212\n",
       "\n",
       "[105 rows x 10 columns]"
      ]
     },
     "execution_count": 4,
     "metadata": {},
     "output_type": "execute_result"
    }
   ],
   "source": [
    "data['3mm'] = pd.read_csv('data/deg2-0235+164-3mm.dat', delim_whitespace=True, header=0, comment='!')\n",
    "data['3mm'].mask(data['3mm'] == -1000, np.nan, inplace=True)\n",
    "\n",
    "data['3mm']"
   ]
  },
  {
   "cell_type": "code",
   "execution_count": 5,
   "metadata": {},
   "outputs": [
    {
     "data": {
      "text/html": [
       "<div>\n",
       "<style scoped>\n",
       "    .dataframe tbody tr th:only-of-type {\n",
       "        vertical-align: middle;\n",
       "    }\n",
       "\n",
       "    .dataframe tbody tr th {\n",
       "        vertical-align: top;\n",
       "    }\n",
       "\n",
       "    .dataframe thead th {\n",
       "        text-align: right;\n",
       "    }\n",
       "</style>\n",
       "<table border=\"1\" class=\"dataframe\">\n",
       "  <thead>\n",
       "    <tr style=\"text-align: right;\">\n",
       "      <th></th>\n",
       "      <th>year</th>\n",
       "      <th>N</th>\n",
       "      <th>CFlux</th>\n",
       "      <th>CFluxErr</th>\n",
       "      <th>MDJ</th>\n",
       "      <th>Flux</th>\n",
       "      <th>Flux_Err</th>\n",
       "      <th>alpha</th>\n",
       "      <th>beta</th>\n",
       "      <th>Eb</th>\n",
       "      <th>UpperLimit</th>\n",
       "      <th>TS_VALUE</th>\n",
       "      <th>Norm</th>\n",
       "      <th>Norm_Err</th>\n",
       "      <th>T_START</th>\n",
       "      <th>T_STOP</th>\n",
       "      <th>NPRED</th>\n",
       "    </tr>\n",
       "  </thead>\n",
       "  <tbody>\n",
       "    <tr>\n",
       "      <th>0</th>\n",
       "      <td>2008.605065</td>\n",
       "      <td>1</td>\n",
       "      <td>1.894027e-07</td>\n",
       "      <td>3.326300e-08</td>\n",
       "      <td>54687.5000</td>\n",
       "      <td>1.894027e-07</td>\n",
       "      <td>3.326300e-08</td>\n",
       "      <td>2.0803</td>\n",
       "      <td>0.095422</td>\n",
       "      <td>887.56</td>\n",
       "      <td>Ignored</td>\n",
       "      <td>120.40</td>\n",
       "      <td>2.714675e-11</td>\n",
       "      <td>4.769000e-12</td>\n",
       "      <td>239673599</td>\n",
       "      <td>240278399</td>\n",
       "      <td>116.30</td>\n",
       "    </tr>\n",
       "    <tr>\n",
       "      <th>1</th>\n",
       "      <td>2008.624230</td>\n",
       "      <td>2</td>\n",
       "      <td>5.572932e-07</td>\n",
       "      <td>4.754800e-08</td>\n",
       "      <td>54694.5000</td>\n",
       "      <td>5.572932e-07</td>\n",
       "      <td>4.754800e-08</td>\n",
       "      <td>2.0803</td>\n",
       "      <td>0.095422</td>\n",
       "      <td>887.56</td>\n",
       "      <td>Ignored</td>\n",
       "      <td>675.50</td>\n",
       "      <td>7.987585e-11</td>\n",
       "      <td>6.817000e-12</td>\n",
       "      <td>240278399</td>\n",
       "      <td>240883199</td>\n",
       "      <td>334.00</td>\n",
       "    </tr>\n",
       "    <tr>\n",
       "      <th>2</th>\n",
       "      <td>2008.643395</td>\n",
       "      <td>3</td>\n",
       "      <td>5.439230e-07</td>\n",
       "      <td>5.684800e-08</td>\n",
       "      <td>54701.5000</td>\n",
       "      <td>5.439230e-07</td>\n",
       "      <td>5.684800e-08</td>\n",
       "      <td>2.0803</td>\n",
       "      <td>0.095422</td>\n",
       "      <td>887.56</td>\n",
       "      <td>Ignored</td>\n",
       "      <td>500.00</td>\n",
       "      <td>7.795953e-11</td>\n",
       "      <td>8.150300e-12</td>\n",
       "      <td>240883199</td>\n",
       "      <td>241487999</td>\n",
       "      <td>253.10</td>\n",
       "    </tr>\n",
       "    <tr>\n",
       "      <th>3</th>\n",
       "      <td>2008.662560</td>\n",
       "      <td>4</td>\n",
       "      <td>6.763391e-07</td>\n",
       "      <td>6.980500e-08</td>\n",
       "      <td>54708.5000</td>\n",
       "      <td>6.763391e-07</td>\n",
       "      <td>6.980500e-08</td>\n",
       "      <td>2.0803</td>\n",
       "      <td>0.095422</td>\n",
       "      <td>887.56</td>\n",
       "      <td>Ignored</td>\n",
       "      <td>623.00</td>\n",
       "      <td>9.693850e-11</td>\n",
       "      <td>1.000800e-11</td>\n",
       "      <td>241487999</td>\n",
       "      <td>242092799</td>\n",
       "      <td>260.40</td>\n",
       "    </tr>\n",
       "    <tr>\n",
       "      <th>4</th>\n",
       "      <td>2008.681725</td>\n",
       "      <td>5</td>\n",
       "      <td>9.020173e-07</td>\n",
       "      <td>7.435100e-08</td>\n",
       "      <td>54715.5000</td>\n",
       "      <td>9.020173e-07</td>\n",
       "      <td>7.435100e-08</td>\n",
       "      <td>2.0803</td>\n",
       "      <td>0.095422</td>\n",
       "      <td>887.56</td>\n",
       "      <td>Ignored</td>\n",
       "      <td>994.10</td>\n",
       "      <td>1.292846e-10</td>\n",
       "      <td>1.066000e-11</td>\n",
       "      <td>242092799</td>\n",
       "      <td>242697599</td>\n",
       "      <td>362.30</td>\n",
       "    </tr>\n",
       "    <tr>\n",
       "      <th>...</th>\n",
       "      <td>...</td>\n",
       "      <td>...</td>\n",
       "      <td>...</td>\n",
       "      <td>...</td>\n",
       "      <td>...</td>\n",
       "      <td>...</td>\n",
       "      <td>...</td>\n",
       "      <td>...</td>\n",
       "      <td>...</td>\n",
       "      <td>...</td>\n",
       "      <td>...</td>\n",
       "      <td>...</td>\n",
       "      <td>...</td>\n",
       "      <td>...</td>\n",
       "      <td>...</td>\n",
       "      <td>...</td>\n",
       "      <td>...</td>\n",
       "    </tr>\n",
       "    <tr>\n",
       "      <th>632</th>\n",
       "      <td>2020.763861</td>\n",
       "      <td>15</td>\n",
       "      <td>1.119233e-07</td>\n",
       "      <td>5.747500e-08</td>\n",
       "      <td>59128.5001</td>\n",
       "      <td>1.119233e-07</td>\n",
       "      <td>5.747500e-08</td>\n",
       "      <td>2.0803</td>\n",
       "      <td>0.095422</td>\n",
       "      <td>887.56</td>\n",
       "      <td>Ignored</td>\n",
       "      <td>14.03</td>\n",
       "      <td>1.604177e-11</td>\n",
       "      <td>8.240300e-12</td>\n",
       "      <td>623376005</td>\n",
       "      <td>623980805</td>\n",
       "      <td>23.45</td>\n",
       "    </tr>\n",
       "    <tr>\n",
       "      <th>633</th>\n",
       "      <td>2020.783026</td>\n",
       "      <td>16</td>\n",
       "      <td>9.138770e-08</td>\n",
       "      <td>3.188800e-08</td>\n",
       "      <td>59135.5001</td>\n",
       "      <td>9.138770e-08</td>\n",
       "      <td>3.188800e-08</td>\n",
       "      <td>2.0803</td>\n",
       "      <td>0.095422</td>\n",
       "      <td>887.56</td>\n",
       "      <td>Ignored</td>\n",
       "      <td>21.53</td>\n",
       "      <td>1.309844e-11</td>\n",
       "      <td>4.571800e-12</td>\n",
       "      <td>623980805</td>\n",
       "      <td>624585605</td>\n",
       "      <td>37.80</td>\n",
       "    </tr>\n",
       "    <tr>\n",
       "      <th>634</th>\n",
       "      <td>2020.802191</td>\n",
       "      <td>17</td>\n",
       "      <td>6.064478e-08</td>\n",
       "      <td>1.657600e-08</td>\n",
       "      <td>59142.5001</td>\n",
       "      <td>2.843496e-08</td>\n",
       "      <td>1.657600e-08</td>\n",
       "      <td>2.0803</td>\n",
       "      <td>0.095422</td>\n",
       "      <td>887.56</td>\n",
       "      <td>6.064478E-08</td>\n",
       "      <td>7.04</td>\n",
       "      <td>4.075533e-12</td>\n",
       "      <td>2.376500e-12</td>\n",
       "      <td>624585605</td>\n",
       "      <td>625190405</td>\n",
       "      <td>12.19</td>\n",
       "    </tr>\n",
       "    <tr>\n",
       "      <th>635</th>\n",
       "      <td>2020.821356</td>\n",
       "      <td>18</td>\n",
       "      <td>4.770228e-08</td>\n",
       "      <td>2.429000e-08</td>\n",
       "      <td>59149.5001</td>\n",
       "      <td>4.770228e-08</td>\n",
       "      <td>2.429000e-08</td>\n",
       "      <td>2.0803</td>\n",
       "      <td>0.095422</td>\n",
       "      <td>887.56</td>\n",
       "      <td>Ignored</td>\n",
       "      <td>11.23</td>\n",
       "      <td>6.837084e-12</td>\n",
       "      <td>3.482500e-12</td>\n",
       "      <td>625190405</td>\n",
       "      <td>625795205</td>\n",
       "      <td>20.28</td>\n",
       "    </tr>\n",
       "    <tr>\n",
       "      <th>636</th>\n",
       "      <td>2020.840520</td>\n",
       "      <td>19</td>\n",
       "      <td>1.733534e-07</td>\n",
       "      <td>3.886500e-08</td>\n",
       "      <td>59156.5001</td>\n",
       "      <td>1.733534e-07</td>\n",
       "      <td>3.886500e-08</td>\n",
       "      <td>2.0803</td>\n",
       "      <td>0.095422</td>\n",
       "      <td>887.56</td>\n",
       "      <td>Ignored</td>\n",
       "      <td>87.28</td>\n",
       "      <td>2.484643e-11</td>\n",
       "      <td>5.572100e-12</td>\n",
       "      <td>625795205</td>\n",
       "      <td>626400005</td>\n",
       "      <td>67.96</td>\n",
       "    </tr>\n",
       "  </tbody>\n",
       "</table>\n",
       "<p>636 rows × 17 columns</p>\n",
       "</div>"
      ],
      "text/plain": [
       "            year   N         CFlux      CFluxErr         MDJ          Flux  \\\n",
       "0    2008.605065   1  1.894027e-07  3.326300e-08  54687.5000  1.894027e-07   \n",
       "1    2008.624230   2  5.572932e-07  4.754800e-08  54694.5000  5.572932e-07   \n",
       "2    2008.643395   3  5.439230e-07  5.684800e-08  54701.5000  5.439230e-07   \n",
       "3    2008.662560   4  6.763391e-07  6.980500e-08  54708.5000  6.763391e-07   \n",
       "4    2008.681725   5  9.020173e-07  7.435100e-08  54715.5000  9.020173e-07   \n",
       "..           ...  ..           ...           ...         ...           ...   \n",
       "632  2020.763861  15  1.119233e-07  5.747500e-08  59128.5001  1.119233e-07   \n",
       "633  2020.783026  16  9.138770e-08  3.188800e-08  59135.5001  9.138770e-08   \n",
       "634  2020.802191  17  6.064478e-08  1.657600e-08  59142.5001  2.843496e-08   \n",
       "635  2020.821356  18  4.770228e-08  2.429000e-08  59149.5001  4.770228e-08   \n",
       "636  2020.840520  19  1.733534e-07  3.886500e-08  59156.5001  1.733534e-07   \n",
       "\n",
       "         Flux_Err   alpha      beta      Eb    UpperLimit  TS_VALUE  \\\n",
       "0    3.326300e-08  2.0803  0.095422  887.56       Ignored    120.40   \n",
       "1    4.754800e-08  2.0803  0.095422  887.56       Ignored    675.50   \n",
       "2    5.684800e-08  2.0803  0.095422  887.56       Ignored    500.00   \n",
       "3    6.980500e-08  2.0803  0.095422  887.56       Ignored    623.00   \n",
       "4    7.435100e-08  2.0803  0.095422  887.56       Ignored    994.10   \n",
       "..            ...     ...       ...     ...           ...       ...   \n",
       "632  5.747500e-08  2.0803  0.095422  887.56       Ignored     14.03   \n",
       "633  3.188800e-08  2.0803  0.095422  887.56       Ignored     21.53   \n",
       "634  1.657600e-08  2.0803  0.095422  887.56  6.064478E-08      7.04   \n",
       "635  2.429000e-08  2.0803  0.095422  887.56       Ignored     11.23   \n",
       "636  3.886500e-08  2.0803  0.095422  887.56       Ignored     87.28   \n",
       "\n",
       "             Norm      Norm_Err    T_START     T_STOP   NPRED  \n",
       "0    2.714675e-11  4.769000e-12  239673599  240278399  116.30  \n",
       "1    7.987585e-11  6.817000e-12  240278399  240883199  334.00  \n",
       "2    7.795953e-11  8.150300e-12  240883199  241487999  253.10  \n",
       "3    9.693850e-11  1.000800e-11  241487999  242092799  260.40  \n",
       "4    1.292846e-10  1.066000e-11  242092799  242697599  362.30  \n",
       "..            ...           ...        ...        ...     ...  \n",
       "632  1.604177e-11  8.240300e-12  623376005  623980805   23.45  \n",
       "633  1.309844e-11  4.571800e-12  623980805  624585605   37.80  \n",
       "634  4.075533e-12  2.376500e-12  624585605  625190405   12.19  \n",
       "635  6.837084e-12  3.482500e-12  625190405  625795205   20.28  \n",
       "636  2.484643e-11  5.572100e-12  625795205  626400005   67.96  \n",
       "\n",
       "[636 rows x 17 columns]"
      ]
     },
     "execution_count": 5,
     "metadata": {},
     "output_type": "execute_result"
    }
   ],
   "source": [
    "data['gamma'] = pd.read_csv('data/0235_P8c_bin7_nov20.dat', delim_whitespace=True, header=0, comment='#')\n",
    "\n",
    "data['gamma'].insert(0, 'year', value=Time(data['gamma']['MDJ'], format='mjd').jyear)\n",
    "\n",
    "CFlux = np.where(np.logical_or(data['gamma']['UpperLimit'] == 'Ignored', data['gamma']['UpperLimit'] == 'Error'), \n",
    "                         data['gamma']['Flux'], data['gamma']['UpperLimit'])\n",
    "CFluxErr = np.where(np.logical_or(data['gamma']['UpperLimit'] == 'Ignored', data['gamma']['UpperLimit'] == 'Error'), \n",
    "                         data['gamma']['Flux_Err'], data['gamma']['Flux_Err'])\n",
    "data['gamma'].insert(2, 'CFlux', value=np.asarray(CFlux, dtype=float))\n",
    "data['gamma'].insert(3, 'CFluxErr', value=np.asarray(CFluxErr, dtype=float))\n",
    "\n",
    "# Remove stupid data point\n",
    "data['gamma'].drop(584, inplace=True)\n",
    "\n",
    "data['gamma']"
   ]
  },
  {
   "cell_type": "markdown",
   "metadata": {},
   "source": [
    "## Show data"
   ]
  },
  {
   "cell_type": "code",
   "execution_count": 6,
   "metadata": {},
   "outputs": [
    {
     "data": {
      "image/png": "[encoded data removed]",
      "text/plain": [
       "<Figure size 864x288 with 2 Axes>"
      ]
     },
     "metadata": {
      "needs_background": "light"
     },
     "output_type": "display_data"
    }
   ],
   "source": [
    "fig, ax = plt.subplots(nrows=2, figsize=(12,4), sharex=True, gridspec_kw={'hspace':0.00})\n",
    "\n",
    "\n",
    "ax[0].errorbar(data['gamma']['year'], data['gamma']['CFlux'], data['gamma']['CFluxErr'], fmt='b.--', label='Gamma-ray flux (0.1 to 200 GeV)', lw=1) # freq?\n",
    "ax[0].set_ylabel('$\\gamma/\\mathrm{cm}^2/\\mathrm{s}?$')\n",
    "ax[0].legend()\n",
    "import matplotlib.ticker as mtick; ax[0].yaxis.set_major_formatter(mtick.FormatStrFormatter('%.1g'))\n",
    "ax[0].grid()\n",
    "\n",
    "ax[1].errorbar(data['3mm']['year'], data['3mm']['I'], data['3mm']['dI'], fmt='k.--', label='3.5mm (POLAMI)', lw=1)  #data['3mm'].plot(x='year', y='I')\n",
    "ax[1].set_ylabel('Jy')\n",
    "ax[1].legend()\n",
    "ax[1].grid()\n",
    "\n",
    "fig.suptitle('AO 0235+164 Flux Density')\n",
    "plt.xlabel('years')\n",
    "plt.show()"
   ]
  },
  {
   "cell_type": "markdown",
   "metadata": {},
   "source": [
    "## Correlate data"
   ]
  },
  {
   "cell_type": "markdown",
   "metadata": {},
   "source": [
    "### Choose data and methods"
   ]
  },
  {
   "cell_type": "markdown",
   "metadata": {},
   "source": [
    "Choose the signals to correlate"
   ]
  },
  {
   "cell_type": "code",
   "execution_count": 7,
   "metadata": {},
   "outputs": [],
   "source": [
    "t1, s1, ds1 = data['3mm']['year'], data['3mm']['I'], data['3mm']['dI']\n",
    "t2, s2, ds2 = data['gamma']['year'], 1e6*data['gamma']['CFlux'], 1e6*data['gamma']['CFluxErr'] ### ¡Use sensible units!"
   ]
  },
  {
   "cell_type": "markdown",
   "metadata": {},
   "source": [
    "Create signals with the corresponding data and choose the method for generating the light curves."
   ]
  },
  {
   "cell_type": "code",
   "execution_count": 8,
   "metadata": {},
   "outputs": [],
   "source": [
    "sig1 = mutis.Signal(t1, s1, ds1, 'lc_gen_psd_nft')\n",
    "sig2 = mutis.Signal(t2, s2, ds2, 'lc_gen_ou')"
   ]
  },
  {
   "cell_type": "markdown",
   "metadata": {},
   "source": [
    "Create the correlation with the corresponding signals and choose the method for generating the correltions."
   ]
  },
  {
   "cell_type": "code",
   "execution_count": 9,
   "metadata": {},
   "outputs": [],
   "source": [
    "correlation = mutis.Correlation(sig1, sig2, 'welsh_ab')"
   ]
  },
  {
   "cell_type": "markdown",
   "metadata": {},
   "source": [
    "### Generate synthetic light curves"
   ]
  },
  {
   "cell_type": "markdown",
   "metadata": {},
   "source": [
    " **HUMAN INTERVENTION**\n",
    " \n",
    "Chose good parameters for time binning!\n",
    "\n",
    "Good parameters will have a high and similar $n_i$ for all bins, with bins covering most of the time range."
   ]
  },
  {
   "cell_type": "code",
   "execution_count": 10,
   "metadata": {},
   "outputs": [],
   "source": [
    "correlation.gen_times(dtmin=0.25)"
   ]
  },
  {
   "cell_type": "code",
   "execution_count": 11,
   "metadata": {},
   "outputs": [
    {
     "data": {
      "image/png": "[encoded data removed]",
      "text/plain": [
       "<Figure size 432x288 with 2 Axes>"
      ]
     },
     "metadata": {
      "needs_background": "light"
     },
     "output_type": "display_data"
    }
   ],
   "source": [
    "correlation.plot_times()"
   ]
  },
  {
   "cell_type": "markdown",
   "metadata": {},
   "source": [
    "**HUMAN INTERVENTION**\n",
    "\n",
    "If the method for generating the synthetic light curves is **lc_gen_ou** we need to chose a good set of parameters. \n",
    "\n",
    "In this case we have set only sig2's method to be lc_gen_ou because lc_gen_psd is more or less okey for sig1.\n",
    "\n",
    "The Signal class includes methods to deal with this OU parameter extraction. This could be more or less an authomathic process, but for some (not a negible number of) cases degenerancy of these OU parameter makes human intervention necessary. We need:\n",
    "1. To plot the histogram and check if the supposed probability density function (pdf) fits nicely (several ways: curve fitting or MLE).\n",
    "2. To check if the stimates are reasonable and produce nice light curves.\n",
    "3. Actually generate the light curves."
   ]
  },
  {
   "cell_type": "markdown",
   "metadata": {},
   "source": [
    "#### Plot the histogram and get extracted parameters"
   ]
  },
  {
   "cell_type": "code",
   "execution_count": 12,
   "metadata": {},
   "outputs": [
    {
     "name": "stderr",
     "output_type": "stream",
     "text": [
      "/Users/juan/Desktop/Doctorado/work/0235+164/MUTIS/mutis/signal.py:272: RuntimeWarning: invalid value encountered in double_scalars\n",
      "  return (ll * mu) ** (1 + ll) / scipy_special.gamma(1 + ll) * np.exp(-ll * mu / xx) / xx ** (ll + 2)\n",
      "/Users/juan/Desktop/Doctorado/work/0235+164/MUTIS/mutis/signal.py:272: RuntimeWarning: divide by zero encountered in true_divide\n",
      "  return (ll * mu) ** (1 + ll) / scipy_special.gamma(1 + ll) * np.exp(-ll * mu / xx) / xx ** (ll + 2)\n",
      "/Users/juan/Desktop/Doctorado/work/0235+164/MUTIS/mutis/signal.py:272: RuntimeWarning: invalid value encountered in true_divide\n",
      "  return (ll * mu) ** (1 + ll) / scipy_special.gamma(1 + ll) * np.exp(-ll * mu / xx) / xx ** (ll + 2)\n"
     ]
    },
    {
     "data": {
      "image/png": "[encoded data removed]",
      "text/plain": [
       "<Figure size 432x288 with 1 Axes>"
      ]
     },
     "metadata": {
      "needs_background": "light"
     },
     "output_type": "display_data"
    },
    {
     "name": "stdout",
     "output_type": "stream",
     "text": [
      "CPU times: user 19.9 s, sys: 211 ms, total: 20.1 s\n",
      "Wall time: 20.1 s\n"
     ]
    }
   ],
   "source": [
    "%%time\n",
    "fits = sig2.OU_fit()"
   ]
  },
  {
   "cell_type": "code",
   "execution_count": 13,
   "metadata": {},
   "outputs": [
    {
     "data": {
      "text/plain": [
       "{'sigma_est': 5.9477164593388965,\n",
       " 'curve_fit': (array([1.00758579, 0.12887562]),\n",
       "  array([0.17348046, 0.01219202])),\n",
       " 'MLE_fit': (0.5523802491183334, 0.14125117915448523),\n",
       " 'th_est1': 9.770317097497758,\n",
       " 'th_est2': 17.821840424447338}"
      ]
     },
     "execution_count": 13,
     "metadata": {},
     "output_type": "execute_result"
    }
   ],
   "source": [
    "fits"
   ]
  },
  {
   "cell_type": "markdown",
   "metadata": {},
   "source": [
    "##### Check if this parameters generate nice light curves."
   ]
  },
  {
   "cell_type": "code",
   "execution_count": 14,
   "metadata": {},
   "outputs": [
    {
     "data": {
      "text/plain": [
       "{'ax1': <AxesSubplot:title={'center':'light curves'}>,\n",
       " 'ax2': <AxesSubplot:title={'center':'pdf'}>,\n",
       " 'ax3': <AxesSubplot:title={'center':'PSD'}>}"
      ]
     },
     "execution_count": 14,
     "metadata": {},
     "output_type": "execute_result"
    },
    {
     "data": {
      "image/png": "[encoded data removed]",
      "text/plain": [
       "<Figure size 1440x288 with 3 Axes>"
      ]
     },
     "metadata": {
      "needs_background": "light"
     },
     "output_type": "display_data"
    }
   ],
   "source": [
    "#%matplotlib inline\n",
    "sig2.OU_check_gen(17, 1, 6)"
   ]
  },
  {
   "cell_type": "markdown",
   "metadata": {},
   "source": [
    "**Set the parameters**"
   ]
  },
  {
   "cell_type": "code",
   "execution_count": 15,
   "metadata": {},
   "outputs": [],
   "source": [
    "sig2.OU_theta, sig2.OU_mu, sig2.OU_sigma = 17, 1, 6"
   ]
  },
  {
   "cell_type": "markdown",
   "metadata": {},
   "source": [
    "##### Actually generate the synthetic light curves"
   ]
  },
  {
   "cell_type": "code",
   "execution_count": 16,
   "metadata": {},
   "outputs": [
    {
     "name": "stdout",
     "output_type": "stream",
     "text": [
      "CPU times: user 1min 9s, sys: 239 ms, total: 1min 9s\n",
      "Wall time: 1min 10s\n"
     ]
    }
   ],
   "source": [
    "%%time\n",
    "correlation.gen_synth(400)"
   ]
  },
  {
   "cell_type": "markdown",
   "metadata": {},
   "source": [
    "### Generate and plot correlations"
   ]
  },
  {
   "cell_type": "code",
   "execution_count": 17,
   "metadata": {},
   "outputs": [
    {
     "name": "stdout",
     "output_type": "stream",
     "text": [
      "CPU times: user 41.6 s, sys: 396 ms, total: 42 s\n",
      "Wall time: 42.3 s\n"
     ]
    }
   ],
   "source": [
    "%%time\n",
    "correlation.gen_corr();"
   ]
  },
  {
   "cell_type": "code",
   "execution_count": 18,
   "metadata": {},
   "outputs": [
    {
     "data": {
      "text/plain": [
       "<AxesSubplot:>"
      ]
     },
     "execution_count": 18,
     "metadata": {},
     "output_type": "execute_result"
    },
    {
     "data": {
      "image/png": "[encoded data removed]",
      "text/plain": [
       "<Figure size 432x288 with 1 Axes>"
      ]
     },
     "metadata": {
      "needs_background": "light"
     },
     "output_type": "display_data"
    }
   ],
   "source": [
    "correlation.plot_corr()"
   ]
  },
  {
   "cell_type": "code",
   "execution_count": null,
   "metadata": {},
   "outputs": [],
   "source": []
  }
 ],
 "metadata": {
  "kernelspec": {
   "display_name": "Python 3",
   "language": "python",
   "name": "python3"
  },
  "language_info": {
   "codemirror_mode": {
    "name": "ipython",
    "version": 3
   },
   "file_extension": ".py",
   "mimetype": "text/x-python",
   "name": "python",
   "nbconvert_exporter": "python",
   "pygments_lexer": "ipython3",
   "version": "3.9.5"
  }
 },
 "nbformat": 4,
 "nbformat_minor": 4
}
