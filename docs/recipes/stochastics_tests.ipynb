{
 "cells": [
  {
   "cell_type": "markdown",
   "metadata": {},
   "source": [
    "# Stochastic light curves: Orstein-Uhlenbeck process.\n",
    "We are going to implement and analyze the Orstein-Uhlenbeck process and its implementation in the context of Monte Carlo generation of synthetic light curves for ***MUTIS***.\n",
    "\n",
    "Wiener process, a.k.a one of the simplest SDE:\n",
    "$$ dX = f (X, t)dt + f(X, t)dW_t $$\n",
    "\n",
    "One of the simplest form it can take is\n",
    "\n",
    "$$ dX = θ (μ − X)dt + σ XdW_t  $$\n",
    "a.k.a the Orstein-Uhlenbeck process."
   ]
  },
  {
   "cell_type": "code",
   "execution_count": null,
   "metadata": {},
   "outputs": [],
   "source": [
    "import numpy as np\n",
    "import scipy as sp\n",
    "import scipy.integrate\n",
    "import scipy.stats\n",
    "import scipy.signal\n",
    "import pandas as pd\n",
    "\n",
    "import matplotlib as mplt\n",
    "import matplotlib.pyplot as plt\n",
    "\n",
    "from matplotlib.offsetbox import AnchoredText\n",
    "\n",
    "from numpy import pi as pi\n",
    "\n",
    "#%matplotlib widget"
   ]
  },
  {
   "cell_type": "markdown",
   "metadata": {},
   "source": [
    "## Set up parameters\n",
    "Define the parameters of the process and its precision on integration."
   ]
  },
  {
   "cell_type": "code",
   "execution_count": null,
   "metadata": {},
   "outputs": [],
   "source": [
    "theta = 0.1\n",
    "mu = 0.5\n",
    "sigma = 0.8\n",
    "X0 = mu\n",
    "\n",
    "N = 10000\n",
    "tf = 200\n",
    "\n",
    "l = 2*theta/sigma**2\n",
    "l"
   ]
  },
  {
   "cell_type": "markdown",
   "metadata": {},
   "source": [
    "## Integrate"
   ]
  },
  {
   "cell_type": "markdown",
   "metadata": {},
   "source": [
    "### Using scipy integrator"
   ]
  },
  {
   "cell_type": "code",
   "execution_count": null,
   "metadata": {},
   "outputs": [],
   "source": [
    "%%time\n",
    "# Integrator 1\n",
    "dt = tf/N\n",
    "\n",
    "def yp(t,y):\n",
    "    return theta*(mu-y)+sigma*y*np.random.randn()/np.sqrt(dt)\n",
    "\n",
    "t = np.linspace(0,tf,N)\n",
    "\n",
    "sol = sp.integrate.solve_ivp(yp, y0=[X0], t_span=(0,tf), t_eval=t)"
   ]
  },
  {
   "cell_type": "code",
   "execution_count": null,
   "metadata": {},
   "outputs": [],
   "source": [
    "plt.figure()\n",
    "plt.plot(sol.t,sol.y[0], 'b.--', lw=0.1, markersize=0.2)\n",
    "plt.grid()\n",
    "plt.show()"
   ]
  },
  {
   "cell_type": "markdown",
   "metadata": {},
   "source": [
    "### Just integrate the fuck out of it"
   ]
  },
  {
   "cell_type": "code",
   "execution_count": null,
   "metadata": {},
   "outputs": [],
   "source": [
    "%%time\n",
    "\n",
    "# Integrator 2\n",
    "t = np.linspace(0,tf,N)\n",
    "y = np.empty(N)\n",
    "\n",
    "y[0] = X0\n",
    "for i in np.arange(1,N):\n",
    "    y[i] = y[i-1] + dt*(theta*(mu-y[i-1]) + sigma*y[i-1]*np.random.randn()/np.sqrt(dt))"
   ]
  },
  {
   "cell_type": "code",
   "execution_count": null,
   "metadata": {},
   "outputs": [],
   "source": [
    "plt.figure()\n",
    "plt.title('U-O process')\n",
    "plt.plot(t,y, 'b.--', lw=0.1, markersize=0.2)\n",
    "#plt.ylim([0,3])\n",
    "plt.grid()\n",
    "plt.show()"
   ]
  },
  {
   "cell_type": "markdown",
   "metadata": {},
   "source": [
    "### Compare distributions"
   ]
  },
  {
   "cell_type": "code",
   "execution_count": null,
   "metadata": {},
   "outputs": [],
   "source": [
    "bins = int(y.size**0.5/1.5) #bins='auto'\n",
    "rang = (np.percentile(y,0), np.percentile(y,99))\n",
    "\n",
    "fig, ax = plt.subplots()\n",
    "ax.hist(y, density=True, color='b', alpha=0.4, bins=bins, range=rang)\n",
    "\n",
    "\n",
    "ax2 = ax.twinx()\n",
    "y2 = sol.y[0]\n",
    "\n",
    "bins = int(y2.size**0.5/1.5) #bins='auto'\n",
    "rang = (np.percentile(y2,0), np.percentile(y2,99))\n",
    "plt.hist(y2, density=True, color='r', alpha=0.4, bins=bins, range=rang)\n",
    "plt.show()"
   ]
  },
  {
   "cell_type": "markdown",
   "metadata": {},
   "source": [
    "## Statistical analysis of the generated curve"
   ]
  },
  {
   "cell_type": "markdown",
   "metadata": {},
   "source": [
    "### Plot distribution and fit psd curve"
   ]
  },
  {
   "cell_type": "code",
   "execution_count": null,
   "metadata": {},
   "outputs": [],
   "source": [
    "bins = int(y.size**0.5/2) #bins='auto'\n",
    "rang = (np.percentile(y,0), np.percentile(y,99))\n",
    "\n",
    "p, x = np.histogram(y, density=True, bins=bins, range=rang) #bins='sqrt')\n",
    "x = (x + np.roll(x, -1))[:-1] / 2.0"
   ]
  },
  {
   "cell_type": "code",
   "execution_count": null,
   "metadata": {},
   "outputs": [],
   "source": [
    "%%time\n",
    "\n",
    "plt.figure()\n",
    "\n",
    "plt.hist(y, density=True, alpha=0.75, bins=bins, range=rang)\n",
    "plt.plot(x,p,'r-', alpha=0.5)\n",
    "\n",
    "anchored_text = AnchoredText(\" mean    {:.4f} \\n median  {:.4f} \\n mode    {:.4f} \\n std        {:.4f} \\n var        {:.4f}\".format(np.mean(y), np.median(y), sp.stats.mode(y)[0][0], np.std(y), np.var(y)), loc='upper right')\n",
    "plt.gca().add_artist(anchored_text)\n",
    "\n",
    "\n",
    "pdf = lambda x,l,mu: (l*mu)**(1+l)/sp.special.gamma(1+l)*np.exp(-l*mu/x)/x**(l+2)\n",
    "\n",
    "try:\n",
    "    popt, pcov = sp.optimize.curve_fit(f=pdf, xdata=x, ydata=p)\n",
    "    x_c = np.linspace(0,1.1*np.max(x),1000)\n",
    "    plt.plot(x_c,pdf(x_c,*popt), 'k--')\n",
    "    \n",
    "    print('popt: ')\n",
    "    print(popt)\n",
    "    print('pcov: ')\n",
    "    print(np.sqrt(np.diag(pcov)))\n",
    "    \n",
    "    l_est, mu_est = popt\n",
    "    eps = 0.05*mu_est\n",
    "    idx = np.abs(y-mu_est) < eps\n",
    "\n",
    "    dy = y[1:]-y[:-1]\n",
    "    sig_est = 1/(np.std(dy[idx[:-1]])/np.sqrt(dt))\n",
    "    print('sig_est: (método chusco)')\n",
    "    print(sig_est)\n",
    "\n",
    "except Exception as e:\n",
    "    print('Some error fitting:')\n",
    "    print(e)\n",
    "    \n",
    "plt.show()"
   ]
  },
  {
   "cell_type": "markdown",
   "metadata": {},
   "source": [
    "### Extraction of sigma"
   ]
  },
  {
   "cell_type": "code",
   "execution_count": null,
   "metadata": {},
   "outputs": [],
   "source": [
    "dy = y[1:]-y[:-1]\n",
    "sigma_est = (np.mean(dy**2/y[:-1]**2))**0.5/np.sqrt(dt)\n",
    "sigma_est"
   ]
  },
  {
   "cell_type": "markdown",
   "metadata": {},
   "source": [
    "#### Fit data to distribution with MLE"
   ]
  },
  {
   "cell_type": "code",
   "execution_count": null,
   "metadata": {},
   "outputs": [],
   "source": [
    "%%time\n",
    "\n",
    "plt.figure()\n",
    "\n",
    "plt.hist(y, density=True, alpha=0.75, bins=bins, range=rang)\n",
    "plt.plot(x,p,'r-', alpha=0.5)\n",
    "\n",
    "anchored_text = AnchoredText(\" mean    {:.4f} \\n median  {:.4f} \\n mode    {:.4f} \\n std        {:.4f} \\n var        {:.4f}\".format(np.mean(y), np.median(y), sp.stats.mode(y)[0][0], np.std(y), np.var(y)), loc='upper right')\n",
    "plt.gca().add_artist(anchored_text)\n",
    "\n",
    "\n",
    "class OU(sp.stats.rv_continuous):\n",
    "    def _pdf(self,x,l,mu):\n",
    "        return (l*mu)**(1+l)/sp.special.gamma(1+l)*np.exp(-l*mu/x)/x**(l+2)\n",
    "try:\n",
    "    fit = OU(a=0.00001, b=100*np.percentile(y,100)).fit(y,1,1, floc=0, fscale=1)\n",
    "    \n",
    "    print('fit: ')\n",
    "    print(fit)\n",
    "\n",
    "    x_c = np.linspace(0,1.1*np.max(x),1000)\n",
    "    plt.plot(x_c,pdf(x_c, fit[0],fit[1]), 'k--')\n",
    "except Exception as e:\n",
    "    print('Some error fitting:')\n",
    "    print(e)\n",
    "    \n",
    "plt.show()"
   ]
  },
  {
   "cell_type": "code",
   "execution_count": null,
   "metadata": {},
   "outputs": [],
   "source": [
    "fit[0]*sigma_est**2/2"
   ]
  },
  {
   "cell_type": "markdown",
   "metadata": {},
   "source": [
    "### PSD analysis"
   ]
  },
  {
   "cell_type": "code",
   "execution_count": null,
   "metadata": {},
   "outputs": [],
   "source": [
    "def curvestats(x):\n",
    "     return pd.DataFrame({'mean':np.mean(x), 'median':np.median(x), 'mode':sp.stats.mode(x)[0][0], 'gmean':sp.stats.gmean(x), \n",
    "                          'std':np.std(x), 'var':np.var(x), \n",
    "                          'mM/2':(np.amin(y)+np.amax(y))/2,\n",
    "                          '0.95mM/2':(np.percentile(x,5)+np.percentile(x,95))/2}, index=[0])"
   ]
  },
  {
   "cell_type": "code",
   "execution_count": null,
   "metadata": {},
   "outputs": [],
   "source": [
    "sig = y\n",
    "t = t\n",
    "\n",
    "plt.figure()\n",
    "\n",
    "plt.psd(sig.real)\n",
    "\n",
    "plt.show()"
   ]
  },
  {
   "cell_type": "code",
   "execution_count": null,
   "metadata": {},
   "outputs": [],
   "source": [
    "plt.figure()\n",
    "\n",
    "fft = np.fft.fft(sig);\n",
    "fftp = fft+3*np.random.randn(fft.size);\n",
    "sigp = np.fft.ifft(fftp);\n",
    "\n",
    "\n",
    "plt.psd(sigp)\n",
    "plt.xlim([0,plt.gca().get_xlim()[-1]])\n",
    "\n",
    "plt.show()"
   ]
  },
  {
   "cell_type": "code",
   "execution_count": null,
   "metadata": {},
   "outputs": [],
   "source": [
    "sig = y\n",
    "\n",
    "\n",
    "f, Pxx = sp.signal.welch(sig)\n",
    "#fft2 = np.sqrt(2*Pxx*Pxx.size)*np.exp(1j*2*pi*np.random.randn(Pxx.size))\n",
    "fft2 = np.sqrt(2*Pxx*Pxx.size)*np.exp(1j*2*pi*np.random.random(Pxx.size))\n",
    "sig2 = np.fft.irfft(fft2, n=sig.size)\n",
    "a = (sig.std()/sig2.std())\n",
    "b = sig.mean()-a*sig2.mean()\n",
    "sig2 = a*sig2+b\n",
    "\n",
    "\n",
    "fftpp = fft\n",
    "sigpp = sig2"
   ]
  },
  {
   "cell_type": "code",
   "execution_count": null,
   "metadata": {},
   "outputs": [],
   "source": [
    "plt.figure()\n",
    "\n",
    "plt.plot(f,Pxx, 'b.-', lw=0.5, markersize=3, alpha=0.8)\n",
    "plt.xscale('log')\n",
    "plt.yscale('log')\n",
    "\n",
    "S = lambda w,b,a,c: a/w**b+c\n",
    "msk = np.logical_and(0.005 < f,  f < 0.3)\n",
    "popt, pcov = sp.optimize.curve_fit(f=S,xdata=f[msk],ydata=Pxx[msk],p0=(1.0,1,0))\n",
    "\n",
    "print('popt:')\n",
    "print(popt)\n",
    "\n",
    "print('pcov:')\n",
    "print(np.sqrt(np.diag(pcov)))\n",
    "\n",
    "b, a, c = popt\n",
    "\n",
    "plt.plot(f[msk],Pxx[msk], 'k.-', lw=0.5, markersize=3, alpha=0.8)\n",
    "plt.plot(f,a/f**b+c,'r.--', lw=0.5, markersize=3, alpha=0.8)\n",
    "\n",
    "plt.show()"
   ]
  }
 ],
 "metadata": {
  "kernelspec": {
   "display_name": "Python 3",
   "language": "python",
   "name": "python3"
  },
  "language_info": {
   "codemirror_mode": {
    "name": "ipython",
    "version": 3
   },
   "file_extension": ".py",
   "mimetype": "text/x-python",
   "name": "python",
   "nbconvert_exporter": "python",
   "pygments_lexer": "ipython3",
   "version": "3.9.5"
  }
 },
 "nbformat": 4,
 "nbformat_minor": 4
}
