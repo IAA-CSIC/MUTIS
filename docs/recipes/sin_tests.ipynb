{
 "cells": [
  {
   "cell_type": "markdown",
   "id": "incident-teens",
   "metadata": {},
   "source": [
    "# The SIN tests\n",
    "Here we use MUTIS to analyze the correlations between simple functions, as a method for veryfing the correct functioning of MUTIS."
   ]
  },
  {
   "cell_type": "code",
   "execution_count": null,
   "id": "willing-withdrawal",
   "metadata": {},
   "outputs": [],
   "source": [
    "# I'm doing a lot of changes to MUTIS while writting this, better reload automatically.\n",
    "%load_ext autoreload\n",
    "%autoreload 2"
   ]
  },
  {
   "cell_type": "code",
   "execution_count": null,
   "id": "serious-rugby",
   "metadata": {},
   "outputs": [],
   "source": [
    "import numpy as np\n",
    "import scipy as sp\n",
    "\n",
    "import matplotlib as mplt\n",
    "import matplotlib.pyplot as plt\n",
    "\n",
    "from mutis.signal import Signal\n",
    "from mutis.correlation import Correlation\n",
    "\n",
    "from numpy import pi as pi\n",
    "\n",
    "def vertlines(x0,a,b,s):\n",
    "    for x in (x0+s*np.arange(a,b)):\n",
    "        ax.axvline(x=x, ymin=-1,ymax=+1, color='m', linewidth=3, alpha=0.5)"
   ]
  },
  {
   "cell_type": "markdown",
   "id": "crazy-hotel",
   "metadata": {},
   "source": [
    "## 1. Sinusoidal functions"
   ]
  },
  {
   "cell_type": "code",
   "execution_count": null,
   "id": "formed-cement",
   "metadata": {},
   "outputs": [],
   "source": [
    "# Build signal 1\n",
    "t1_o = np.linspace(2,6,40)\n",
    "s1_o = np.sin(t1_o)\n",
    "\n",
    "msk1 = np.random.randn(t1_o.size) > 0.6\n",
    "\n",
    "t1_s = t1_o[msk1]\n",
    "s1_s = s1_o[msk1]"
   ]
  },
  {
   "cell_type": "code",
   "execution_count": null,
   "id": "forward-cooperation",
   "metadata": {},
   "outputs": [],
   "source": [
    "# Build signal 2\n",
    "t2_o = np.linspace(8,12,40)\n",
    "s2_o = np.sin(t2_o)\n",
    "\n",
    "msk2 = np.random.randn(t2_o.size) > 0.6\n",
    "\n",
    "t2_s = t2_o[msk2]\n",
    "s2_s = s2_o[msk2]"
   ]
  },
  {
   "cell_type": "code",
   "execution_count": null,
   "id": "regulated-wrestling",
   "metadata": {},
   "outputs": [],
   "source": [
    "plt.figure()\n",
    "plt.plot(t1_o,s1_o,'r-', lw=0.5, alpha=0.5, label='sig 1')\n",
    "plt.plot(t1_s,s1_s,'r.', alpha=0.5)\n",
    "plt.plot(t2_o,s2_o,'b-', lw=0.5, alpha=0.5, label='sig 2')\n",
    "plt.plot(t2_s,s2_s,'b.', alpha=0.5)\n",
    "plt.legend()\n",
    "plt.show()"
   ]
  },
  {
   "cell_type": "markdown",
   "id": "raising-incentive",
   "metadata": {},
   "source": [
    "From this singals we would expect a maximum at 11-5=6, and several max and mins at distances of pi from this."
   ]
  },
  {
   "cell_type": "code",
   "execution_count": null,
   "id": "recorded-mozambique",
   "metadata": {},
   "outputs": [],
   "source": [
    "sig1_o = Signal(t1_o, s1_o, 'lc_gen_psd_nft')\n",
    "sig2_o = Signal(t2_o, s2_o, 'lc_gen_psd_nft')\n",
    "corr_o = Correlation(sig1_o,sig2_o,'welsh_ab')"
   ]
  },
  {
   "cell_type": "code",
   "execution_count": null,
   "id": "armed-gravity",
   "metadata": {},
   "outputs": [],
   "source": [
    "corr_o.gen_times(dtmin=0.1, dtmax=3, nbinsmin=3)\n",
    "corr_o.plot_times(rug=True)"
   ]
  },
  {
   "cell_type": "code",
   "execution_count": null,
   "id": "metric-timer",
   "metadata": {},
   "outputs": [],
   "source": [
    "corr_o.gen_synth(400)\n",
    "corr_o.gen_corr()\n",
    "fig, ax = plt.subplots()\n",
    "corr_o.plot_corr()\n",
    "vertlines(6,-1,2, pi)\n",
    "fig.show()"
   ]
  },
  {
   "cell_type": "markdown",
   "id": "standard-terrorism",
   "metadata": {},
   "source": [
    "Indeed the correlation with the origina signals shows the expected peaks in their positions (the vertical red lines)"
   ]
  },
  {
   "cell_type": "code",
   "execution_count": null,
   "id": "spread-tiffany",
   "metadata": {},
   "outputs": [],
   "source": [
    "sig1_s = Signal(t1_s, s1_s, 'lc_gen_psd_nfft')\n",
    "sig2_s = Signal(t2_s, s2_s, 'lc_gen_psd_nfft')\n",
    "corr_s = Correlation(sig1_s,sig2_s,'welsh_ab')"
   ]
  },
  {
   "cell_type": "code",
   "execution_count": null,
   "id": "confused-referral",
   "metadata": {},
   "outputs": [],
   "source": [
    "corr_s.gen_times(dtmin=0.3, dtmax=4, nbinsmin=5)\n",
    "corr_s.plot_times(rug=True)"
   ]
  },
  {
   "cell_type": "code",
   "execution_count": null,
   "id": "received-station",
   "metadata": {},
   "outputs": [],
   "source": [
    "corr_s.gen_synth(400)\n",
    "corr_s.gen_corr()\n",
    "fig, ax = plt.subplots()\n",
    "corr_s.plot_corr()\n",
    "\n",
    "vertlines(6,-1,2,pi)\n",
    "\n",
    "fig.show()"
   ]
  },
  {
   "cell_type": "markdown",
   "id": "expected-longer",
   "metadata": {},
   "source": [
    "However, the correlation with the sampled signals shows only the central maximum and one of the minima, both with some uncertainy."
   ]
  },
  {
   "cell_type": "markdown",
   "id": "rational-trick",
   "metadata": {},
   "source": [
    "## 2. Pulse functions"
   ]
  },
  {
   "cell_type": "code",
   "execution_count": null,
   "id": "alike-loading",
   "metadata": {},
   "outputs": [],
   "source": [
    "# Build signal 1\n",
    "t1_o = np.linspace(2,6,80)\n",
    "s1_o = np.exp(-0.8*(t1_o-4)**2)\n",
    "\n",
    "msk1 = np.random.randn(t1_o.size) > 0.6\n",
    "\n",
    "t1_s = t1_o[msk1]\n",
    "s1_s = s1_o[msk1]"
   ]
  },
  {
   "cell_type": "code",
   "execution_count": null,
   "id": "gothic-junction",
   "metadata": {},
   "outputs": [],
   "source": [
    "# Build signal 2\n",
    "t2_o = np.linspace(8,12,80)\n",
    "s2_o = np.exp(-0.8*(t2_o-9)**2)\n",
    "\n",
    "msk2 = np.random.randn(t2_o.size) > 0.5\n",
    "\n",
    "t2_s = t2_o[msk2]\n",
    "s2_s = s2_o[msk2]"
   ]
  },
  {
   "cell_type": "code",
   "execution_count": null,
   "id": "ready-article",
   "metadata": {},
   "outputs": [],
   "source": [
    "plt.figure()\n",
    "plt.plot(t1_o,s1_o,'r-', lw=0.5, alpha=0.3, label='sig 1')\n",
    "plt.plot(t1_s,s1_s,'r.', alpha=0.5)\n",
    "plt.plot(t2_o,s2_o,'b-', lw=0.5, alpha=0.3, label='sig 2')\n",
    "plt.plot(t2_s,s2_s,'b.', alpha=0.5)\n",
    "plt.legend()\n",
    "plt.show()"
   ]
  },
  {
   "cell_type": "markdown",
   "id": "alpine-growth",
   "metadata": {},
   "source": [
    "From these signals we would expect a strong maximum at 5 with close minima."
   ]
  },
  {
   "cell_type": "code",
   "execution_count": null,
   "id": "loaded-indication",
   "metadata": {},
   "outputs": [],
   "source": [
    "sig1_o = Signal(t1_o, s1_o, 'lc_gen_psd_nfft')\n",
    "sig2_o = Signal(t2_o, s2_o, 'lc_gen_psd_nfft')\n",
    "corr_o = Correlation(sig1_o,sig2_o,'welsh_ab')"
   ]
  },
  {
   "cell_type": "code",
   "execution_count": null,
   "id": "tamil-lying",
   "metadata": {},
   "outputs": [],
   "source": [
    "corr_o.gen_times(dtmin=0.3, dtmax=2, nbinsmin=5)\n",
    "corr_o.plot_times(rug=True)"
   ]
  },
  {
   "cell_type": "code",
   "execution_count": null,
   "id": "mechanical-degree",
   "metadata": {},
   "outputs": [],
   "source": [
    "corr_o.gen_synth(400)\n",
    "corr_o.gen_corr()\n",
    "\n",
    "fig, ax = plt.subplots()\n",
    "corr_o.plot_corr()\n",
    "vertlines(5,0,1,0)\n",
    "fig.show()"
   ]
  },
  {
   "cell_type": "markdown",
   "id": "polyphonic-lindsay",
   "metadata": {},
   "source": [
    "Which is what was expected."
   ]
  },
  {
   "cell_type": "code",
   "execution_count": null,
   "id": "corrected-member",
   "metadata": {},
   "outputs": [],
   "source": [
    "sig1_s = Signal(t1_s, s1_s, 'lc_gen_psd_nfft')\n",
    "sig2_s = Signal(t2_s, s2_s, 'lc_gen_psd_nfft')\n",
    "corr_s = Correlation(sig1_s,sig2_s,'welsh_ab')"
   ]
  },
  {
   "cell_type": "code",
   "execution_count": null,
   "id": "stable-interest",
   "metadata": {},
   "outputs": [],
   "source": [
    "corr_s.gen_times(dtmin=0.3, dtmax=2, nbinsmin=3)\n",
    "corr_s.plot_times(rug=True)"
   ]
  },
  {
   "cell_type": "code",
   "execution_count": null,
   "id": "japanese-allen",
   "metadata": {},
   "outputs": [],
   "source": [
    "corr_s.gen_synth(400)\n",
    "corr_s.gen_corr()\n",
    "fig, ax = plt.subplots()\n",
    "corr_s.plot_corr()\n",
    "vertlines(5,0,1,0)\n",
    "fig.show()"
   ]
  },
  {
   "cell_type": "markdown",
   "id": "imperial-console",
   "metadata": {},
   "source": [
    "Which is as expected, but uglier."
   ]
  },
  {
   "cell_type": "markdown",
   "id": "liable-socket",
   "metadata": {},
   "source": [
    "## 3. Several pulses, with error"
   ]
  },
  {
   "cell_type": "code",
   "execution_count": null,
   "id": "significant-efficiency",
   "metadata": {},
   "outputs": [],
   "source": [
    "# Build signal 1\n",
    "t1_o = np.linspace(2,16,35)\n",
    "s1_o = np.exp(-1.8*(t1_o-4)**2) + np.exp(-1.8*(t1_o-12)**2) + 0.01\n",
    "\n",
    "msk1 = np.random.rand(t1_o.size) < 1.5*(s1_o+0.1)\n",
    "\n",
    "t1_s = t1_o[msk1]\n",
    "s1_s = s1_o[msk1]\n",
    "\n",
    "# ... and add error:\n",
    "t1_s = t1_s + 0.01*np.random.randn(t1_s.size)\n",
    "s1_s = s1_s + 0.3*s1_s*np.random.randn(s1_s.size)  + 0.05*np.random.rand(s1_s.size)"
   ]
  },
  {
   "cell_type": "code",
   "execution_count": null,
   "id": "diverse-mobility",
   "metadata": {},
   "outputs": [],
   "source": [
    "# Build signal 2\n",
    "t2_o = np.linspace(7,23,50)\n",
    "s2_o = np.exp(-1.8*(t2_o-12)**2) + np.exp(-1.8*(t2_o-20)**2) + 0.01\n",
    "\n",
    "msk2 = np.random.rand(t2_o.size) < 1.5*(s2_o+0.1)\n",
    "\n",
    "t2_s = t2_o[msk2]\n",
    "s2_s = s2_o[msk2]\n",
    "\n",
    "# ... and add error:\n",
    "t2_s = t2_s + 0.01*np.random.randn(t2_s.size)\n",
    "s2_s = s2_s + 0.3*s2_s*np.random.randn(s2_s.size) + 0.05*np.random.rand(s2_s.size)"
   ]
  },
  {
   "cell_type": "code",
   "execution_count": null,
   "id": "weighted-filing",
   "metadata": {},
   "outputs": [],
   "source": [
    "plt.figure()\n",
    "plt.plot(t1_o,s1_o,'r-', lw=0.5, alpha=0.3, label='sig 1')\n",
    "plt.plot(t1_s,s1_s,'r.', alpha=0.5)\n",
    "plt.plot(t2_o,s2_o,'b-', lw=0.5, alpha=0.3, label='sig 2')\n",
    "plt.plot(t2_s,s2_s,'b.', alpha=0.5)\n",
    "plt.legend()\n",
    "plt.show()"
   ]
  },
  {
   "cell_type": "markdown",
   "id": "structural-shade",
   "metadata": {},
   "source": [
    "From these signals we would expect a strong maximum at 8 with close minima (and maybe others peaks near 16 and 0)"
   ]
  },
  {
   "cell_type": "code",
   "execution_count": null,
   "id": "mineral-placement",
   "metadata": {},
   "outputs": [],
   "source": [
    "sig1_o = Signal(t1_o, s1_o, 'lc_gen_psd_nfft')\n",
    "sig2_o = Signal(t2_o, s2_o, 'lc_gen_psd_nfft')\n",
    "corr_o = Correlation(sig1_o,sig2_o,'welsh_ab')"
   ]
  },
  {
   "cell_type": "code",
   "execution_count": null,
   "id": "dying-gabriel",
   "metadata": {},
   "outputs": [],
   "source": [
    "corr_o.gen_times(dtmin=0.2, dtmax=1, nbinsmin=6)\n",
    "corr_o.plot_times(rug=True)"
   ]
  },
  {
   "cell_type": "code",
   "execution_count": null,
   "id": "satisfactory-nashville",
   "metadata": {},
   "outputs": [],
   "source": [
    "corr_o.gen_synth(400)\n",
    "corr_o.gen_corr()\n",
    "\n",
    "fig, ax = plt.subplots()\n",
    "corr_o.plot_corr()\n",
    "vertlines(8,0,1,0)\n",
    "vertlines(16,0,1,0)\n",
    "vertlines(0,0,1,0)\n",
    "fig.show()"
   ]
  },
  {
   "cell_type": "markdown",
   "id": "spatial-design",
   "metadata": {},
   "source": [
    "Which is what was expected."
   ]
  },
  {
   "cell_type": "code",
   "execution_count": null,
   "id": "virtual-school",
   "metadata": {},
   "outputs": [],
   "source": [
    "sig1_s = Signal(t1_s, s1_s, 'lc_gen_psd_nfft')\n",
    "sig2_s = Signal(t2_s, s2_s, 'lc_gen_psd_nfft')\n",
    "corr_s = Correlation(sig1_s,sig2_s,'welsh_ab')"
   ]
  },
  {
   "cell_type": "code",
   "execution_count": null,
   "id": "operating-thunder",
   "metadata": {},
   "outputs": [],
   "source": [
    "corr_s.gen_times(dtmin=0.2, dtmax=3, nbinsmin=6)\n",
    "corr_s.plot_times(rug=True)"
   ]
  },
  {
   "cell_type": "code",
   "execution_count": null,
   "id": "architectural-preservation",
   "metadata": {},
   "outputs": [],
   "source": [
    "corr_s.gen_synth(400)\n",
    "corr_s.gen_corr()\n",
    "fig, ax = plt.subplots()\n",
    "corr_s.plot_corr()\n",
    "vertlines(8,0,1,0)\n",
    "vertlines(16,0,1,0)\n",
    "vertlines(0,0,1,0)\n",
    "fig.show()"
   ]
  },
  {
   "cell_type": "markdown",
   "id": "adjusted-reflection",
   "metadata": {},
   "source": [
    "Which is as expected, but uglier."
   ]
  },
  {
   "cell_type": "code",
   "execution_count": null,
   "id": "670e71b1-91c9-46d1-8504-ac2dd3243cc2",
   "metadata": {},
   "outputs": [],
   "source": []
  }
 ],
 "metadata": {
  "kernelspec": {
   "display_name": "Python 3",
   "language": "python",
   "name": "python3"
  },
  "language_info": {
   "codemirror_mode": {
    "name": "ipython",
    "version": 3
   },
   "file_extension": ".py",
   "mimetype": "text/x-python",
   "name": "python",
   "nbconvert_exporter": "python",
   "pygments_lexer": "ipython3",
   "version": "3.9.4"
  }
 },
 "nbformat": 4,
 "nbformat_minor": 5
}
