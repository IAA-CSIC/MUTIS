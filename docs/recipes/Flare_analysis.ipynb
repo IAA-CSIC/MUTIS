{
 "cells": [
  {
   "cell_type": "markdown",
   "metadata": {},
   "source": [
    "# Flare analysis"
   ]
  },
  {
   "cell_type": "code",
   "execution_count": null,
   "metadata": {},
   "outputs": [],
   "source": [
    "%load_ext autoreload\n",
    "%autoreload 2\n",
    "\n",
    "import numpy as np\n",
    "import scipy as sp\n",
    "import pandas as pd\n",
    "\n",
    "import matplotlib as mplt\n",
    "import matplotlib.pyplot as plt\n",
    "\n",
    "import astropy\n",
    "import astropy.units as u\n",
    "\n",
    "import mutis\n",
    "from mutis.flares.bayblocks import BayesianBlocks"
   ]
  },
  {
   "cell_type": "markdown",
   "metadata": {},
   "source": [
    "## Load data"
   ]
  },
  {
   "cell_type": "code",
   "execution_count": null,
   "metadata": {},
   "outputs": [],
   "source": [
    "data = pd.read_csv('data/J0238.6+1637_604800_lc.dat', delim_whitespace=True, index_col=False, header=None, comment='#')\n",
    "#data = pd.read_csv('data/J2202.7+4216_604800_lc.dat', delim_whitespace=True, index_col=False, header=None, comment='#')\n",
    "            \n",
    "#names=['mjd', 'unkn1', 'unkn2', 'flux', 'flux_err']\n",
    "data = data[~(data[2] > 1e-5)] # bad points?\n",
    "data"
   ]
  },
  {
   "cell_type": "markdown",
   "metadata": {},
   "source": [
    "## Build signal and plot its Bayesian Block representation"
   ]
  },
  {
   "cell_type": "code",
   "execution_count": null,
   "metadata": {},
   "outputs": [],
   "source": [
    "sig = mutis.Signal(data[0], 1e6*data[2], 1e6*data[3])\n",
    "\n",
    "fig, ax = plt.subplots(figsize=(10,6))\n",
    "bayblocks = BayesianBlocks(sig, p=1e-8)\n",
    "bayblocks.get_flares()\n",
    "bayblocks.signal.plot()\n",
    "bayblocks.plot()"
   ]
  },
  {
   "cell_type": "markdown",
   "metadata": {},
   "source": [
    "# Get flares from BayesianBlocks, and plot them"
   ]
  },
  {
   "cell_type": "code",
   "execution_count": null,
   "metadata": {},
   "outputs": [],
   "source": [
    "fig, ax = plt.subplots(figsize=(10,6))\n",
    "bayblocks.signal.plot()\n",
    "\n",
    "bayblocks.get_flares()\n",
    "\n",
    "bayblocks.plot('color.strict')\n",
    "\n",
    "plt.axhline(y=np.median(sig.values), color='r', linestyle='--', alpha=1, label='1 MAD')\n",
    "plt.axhline(y=np.median(sig.values)+np.sqrt(np.median((sig.values-np.median(sig.values))**2)), color='m', linestyle='--', alpha=1, label='Mad')\n",
    "\n",
    "for flare in bayblocks.get_flare_list():\n",
    "    flare.plot()\n",
    "\n",
    "plt.legend()\n",
    "    \n",
    "plt.show()"
   ]
  },
  {
   "cell_type": "code",
   "execution_count": null,
   "metadata": {},
   "outputs": [],
   "source": []
  }
 ],
 "metadata": {
  "language_info": {
   "codemirror_mode": {
    "name": "ipython",
    "version": 3
   },
   "file_extension": ".py",
   "mimetype": "text/x-python",
   "name": "python",
   "nbconvert_exporter": "python",
   "pygments_lexer": "ipython3",
   "version": "3.7.1"
  }
 },
 "nbformat": 4,
 "nbformat_minor": 4
}
