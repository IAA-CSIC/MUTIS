{
 "cells": [
  {
   "cell_type": "markdown",
   "id": "afraid-circulation",
   "metadata": {},
   "source": [
    "# PSD tests\n",
    "Some tests to clarify how to calculate the PSD of a signal, randomize it and which results to expect.\n",
    "\n",
    "**UPDATE: OH MY GOODNESS I have been using the wrong method for computing the PSD all this time along, since Welch's method can only be used for evenly sampled signals. From now on use the Lomb-Scargle periodogram. We also have to use Non-Unifrom Fourier Transform (NFT).**"
   ]
  },
  {
   "cell_type": "code",
   "execution_count": null,
   "id": "dressed-demographic",
   "metadata": {},
   "outputs": [],
   "source": [
    "# I'm doing a lot of changes to MUTIS while writting this, better reload automatically.\n",
    "%load_ext autoreload\n",
    "%autoreload 2"
   ]
  },
  {
   "cell_type": "code",
   "execution_count": null,
   "id": "binary-overhead",
   "metadata": {},
   "outputs": [],
   "source": [
    "import numpy as np\n",
    "from numpy import pi as pi\n",
    "import scipy as sp\n",
    "import scipy.signal\n",
    "\n",
    "import matplotlib as mplt\n",
    "import matplotlib.pyplot as plt\n",
    "\n",
    "import mutis\n",
    "\n",
    "import nfft # non uniform fourier transform\n",
    "\n",
    "import traceback"
   ]
  },
  {
   "cell_type": "markdown",
   "id": "involved-student",
   "metadata": {},
   "source": [
    "## Using NFT and Lomb-Scargle periodogram."
   ]
  },
  {
   "cell_type": "code",
   "execution_count": null,
   "id": "russian-gospel",
   "metadata": {},
   "outputs": [],
   "source": [
    "t = np.linspace(10,20,100)\n",
    "s = 0.5*np.sin(1*t) +0.5*np.sin(6*t)+1\n",
    "\n",
    "plt.plot(t,s)"
   ]
  },
  {
   "cell_type": "code",
   "execution_count": null,
   "id": "innocent-cholesterol",
   "metadata": {},
   "outputs": [],
   "source": [
    "freqs = np.linspace(1e-3,10,1000)\n",
    "sxx = sp.signal.lombscargle(x=t, y=s, freqs=freqs, normalize=True)\n",
    "\n",
    "fig, ax = plt.subplots()\n",
    "ax.plot(freqs, sxx)\n",
    "plt.show()"
   ]
  },
  {
   "cell_type": "code",
   "execution_count": null,
   "id": "electric-variation",
   "metadata": {
    "jupyter": {
     "source_hidden": true
    },
    "tags": []
   },
   "outputs": [],
   "source": [
    "\"\"\"\n",
    "def lc_gen_psd_lombscargle(t, sig, pl2, N=None):\n",
    "    sigp = sig\n",
    "    tp = t\n",
    "    \n",
    "    if sig.size % 2 != 0:\n",
    "        print('Odd number')\n",
    "        sigp = sig[:-1]\n",
    "        tp = t[:-1]\n",
    "    else:\n",
    "        sigp = sig\n",
    "        tp = t\n",
    "    \n",
    "    N = sigp.size\n",
    "    #k = np.arange(-N/2,N/2) no bc sp.signal.lombscargle does not support freq zero:\n",
    "    k = np.linspace(-N/2,N/2-1+1e-6,N)\n",
    "    freqs = k/2/pi\n",
    "    \n",
    "    Pxx = sp.signal.lombscargle(tp, sigp, freqs)\n",
    "    \n",
    "    # construct random phase to get real signal:\n",
    "    phase = np.random.random(Pxx.size//2)\n",
    "    phase = np.concatenate((-np.flip(phase),[0], phase[:-1]))\n",
    "    \n",
    "    fft2 = np.sqrt(2*Pxx*Pxx.size)*np.exp(1j*2*pi*phase)\n",
    "    \n",
    "    sig2 = nfft.nfft((t-(t.max()+t.min())/2)/np.ptp(t), fft2, N, use_fft=True)/N\n",
    "\n",
    "    #return sig2\n",
    "    #fix small deviations\n",
    "    a = (sig.std()/sig2.std())\n",
    "    b = sig.mean()-a*sig2.mean()\n",
    "    sig2 = a*sig2+b\n",
    "    \n",
    "    return sig2\n",
    "\n",
    "\n",
    "def lc_gen_psd_nft(t, sig, pl2, N=None):\n",
    "    k = np.arange(-t.size//2, t.size/2)\n",
    "    N = k.size\n",
    "    freqs = k/2/pi\n",
    "    \n",
    "    nft = nfft.nfft_adjoint((t-(t.max()+t.min())/2)/np.ptp(t), sig, N, use_fft=True)\n",
    "\n",
    "    # construct random phase to get real signal:\n",
    "    phase = np.random.random(N.size//2)\n",
    "    phase = np.concatenate((-np.flip(phase),[0],phase[:-1]))\n",
    "    \n",
    "    fft2 = np.abs(nft)*np.exp(1j*2*pi*phase)\n",
    "    sig2 = nfft.nfft((t-(t.max()+t.min())/2)/np.ptp(t), fft2, use_fft=True)/N\n",
    "    \n",
    "    #return sig2\n",
    "    sig2 = np.real(sig2)     # np.real to fix small imaginary part from numerical error\n",
    "\n",
    "    # fix small mean, std difference from numerical error\n",
    "    a = (sig.std()/sig2.std())\n",
    "    b = sig.mean()-a*sig2.mean()\n",
    "    sig2 = a*sig2+b\n",
    "    \n",
    "    return sig2\n",
    "\"\"\";"
   ]
  },
  {
   "cell_type": "code",
   "execution_count": null,
   "id": "likely-aurora",
   "metadata": {},
   "outputs": [],
   "source": [
    "fig, ax = plt.subplots()\n",
    "\n",
    "ax.plot(t,s,'b-', lw=1, alpha=0.2, label='orig')\n",
    "\n",
    "#try:\n",
    "s2 = mutis.signal.lc_gen_psd_lombscargle(t,s)\n",
    "ax.plot(t,s2, 'r-', lw=1, alpha=0.8, label='nufft LS')\n",
    "\n",
    "s4 = mutis.signal.lc_gen_psd_nft(t,s)\n",
    "ax.plot(t,s4, 'k-', lw=1, alpha=0.8, label='nufft nfft')\n",
    "\n",
    "s3 = mutis.signal.lc_gen_psd_fft(s)\n",
    "ax.plot(t,s3, 'm-', lw=1, alpha=0.6, label='fft')\n",
    "\n",
    "ax.legend()\n",
    "\n",
    "print(np.mean(s))\n",
    "print(np.mean(s2))\n",
    "print(np.sum(np.imag(s2)>0.3))"
   ]
  },
  {
   "cell_type": "code",
   "execution_count": null,
   "id": "decent-jonathan",
   "metadata": {},
   "outputs": [],
   "source": [
    "freqs = np.linspace(1e-3,5,1000)\n",
    "sxx = sp.signal.lombscargle(x=t, y=s, freqs=freqs, normalize=True)\n",
    "sxx2 = sp.signal.lombscargle(x=t, y=s2, freqs=freqs, normalize=True)\n",
    "\n",
    "\n",
    "fig, ax = plt.subplots()\n",
    "ax.plot(freqs, sxx, 'r-', lw=1)\n",
    "ax.plot(freqs, sxx2, 'b-', lw=1)\n",
    "fig.suptitle('L-S periodogram')\n",
    "\n",
    "fig, ax = plt.subplots()\n",
    "\n",
    "N = s.size\n",
    "#k = -(N // 2) + np.arange(N)\n",
    "k = np.linspace(-s.size/2,s.size/2,N)\n",
    "freqs = k/2/pi\n",
    "nft = nfft.nfft_adjoint((t-(t.max()+t.min())/2)/np.ptp(t), s, N, use_fft=True)/N\n",
    "Pxx = np.abs(nft)**2\n",
    "\n",
    "#idx = np.argsort(freqs)\n",
    "#freqs = freqs[idx]\n",
    "#Pxx = Pxx[idx]\n",
    "\n",
    "#Pxx = sp.fft.ifftshift(Pxx)\n",
    "#freqs = np.linspace(-0.5, 0.5, N, endpoint=True)*2*pi*4\n",
    "ax.plot(freqs,Pxx, 'r-', lw=1)\n",
    "\n",
    "##########\n",
    "N = s2.size\n",
    "#k = -(N // 2) + np.arange(N)\n",
    "k = np.linspace(-s2.size/2,s2.size/2,N)\n",
    "freqs = k/2/pi\n",
    "nft = nfft.nfft_adjoint((t-(t.max()+t.min())/2)/np.ptp(t), s2, N, use_fft=True)/N\n",
    "Pxx = np.abs(nft)**2\n",
    "\n",
    "#idx = np.argsort(freqs)\n",
    "#freqs = freqs[idx]\n",
    "#Pxx = Pxx[idx]\n",
    "\n",
    "#Pxx = sp.fft.ifftshift(Pxx)\n",
    "#freqs = np.linspace(-0.5, 0.5, N, endpoint=True)*2*pi*4\n",
    "ax.plot(freqs,Pxx, 'b-', lw=1)\n",
    "##########\n",
    "\n",
    "ax.set_xlim([0, 5])\n",
    "fig.suptitle('ndft')"
   ]
  },
  {
   "cell_type": "markdown",
   "id": "worse-preview",
   "metadata": {},
   "source": [
    "### FT and iFT with NDFT"
   ]
  },
  {
   "cell_type": "code",
   "execution_count": null,
   "id": "defined-russian",
   "metadata": {},
   "outputs": [],
   "source": [
    "N = s.size\n",
    "k = -(N // 2) + np.arange(N)\n",
    "freqs = k/2/pi\n",
    "nft = nfft.nfft_adjoint((t-(t.max()+t.min())/2)/np.ptp(t), s, N, use_fft=True)\n",
    "\n",
    "ft = sp.fft.fft(s)\n",
    "\n",
    "plt.plot(2*pi*np.arange(0,t.size)/np.ptp(t), np.abs(ft), 'b', alpha=0.5)\n",
    "plt.gca().twinx()\n",
    "plt.plot(freqs, np.abs(nft), 'r', alpha=0.5)\n",
    "plt.xlim([0,4])"
   ]
  },
  {
   "cell_type": "code",
   "execution_count": null,
   "id": "secure-principle",
   "metadata": {},
   "outputs": [],
   "source": [
    "s2nft = 1/N*nfft.nfft((t-(t.max()+t.min())/2)/np.ptp(t), nft, use_fft=True)\n",
    "s2ft = sp.fft.ifft(ft)\n",
    "plt.plot(t, s2ft, 'b')\n",
    "plt.gca().twinx()\n",
    "plt.plot(t, s2nft, 'r')"
   ]
  },
  {
   "cell_type": "code",
   "execution_count": null,
   "id": "secondary-nicaragua",
   "metadata": {},
   "outputs": [],
   "source": [
    "freqs = np.linspace(-5,+5,1000)\n",
    "sxx_ft = sp.signal.lombscargle(x=t, y=s2ft, freqs=freqs, normalize=True)\n",
    "sxx_nft = sp.signal.lombscargle(x=t, y=s2nft, freqs=freqs, normalize=True)\n",
    "\n",
    "fig, ax = plt.subplots()\n",
    "ax.plot(freqs, sxx_ft, 'r-', alpha=0.5)\n",
    "ax.plot(freqs, sxx_nft, 'b-', alpha=0.5)\n",
    "plt.show()"
   ]
  },
  {
   "cell_type": "code",
   "execution_count": null,
   "id": "cf272fa2-0e20-4db6-9a83-c6e7995c7c83",
   "metadata": {},
   "outputs": [],
   "source": []
  }
 ],
 "metadata": {
  "language_info": {
   "codemirror_mode": {
    "name": "ipython",
    "version": 3
   },
   "file_extension": ".py",
   "mimetype": "text/x-python",
   "name": "python",
   "nbconvert_exporter": "python",
   "pygments_lexer": "ipython3",
   "version": "3.7.1"
  }
 },
 "nbformat": 4,
 "nbformat_minor": 5
}
